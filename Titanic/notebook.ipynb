{
 "cells": [
  {
   "cell_type": "markdown",
   "id": "4bc3185b-95f1-4303-9ffc-b210f0d2a52a",
   "metadata": {},
   "source": [
    "# Titanic Survival Prediction\n",
    "The sinking of the Titanic is one of the most infamous shipwrecks in history. <br>\n",
    "On April 15, 1912, during her maiden voyage, the widely considered \"unsinkable\" RMS Titanic sank after colliding with an icebers. Due to lack of lifeboats onboard, 1502 people lost their lives out of 2224 people (including crew). <br>\n",
    "While there was some element of luck involved in suriving, it seems some group of people were more likely to survive than others. \n",
    "The dataset consists of details of 1309 passengers on board (891 in training set and 418 in test set). <br>\n",
    "The dataset can be found [**here**](https://www.kaggle.com/c/titanic/data)."
   ]
  },
  {
   "cell_type": "markdown",
   "id": "39cb7ea7-623d-46d7-b832-a9932e560208",
   "metadata": {},
   "source": [
    "## Table of Contents\n",
    "1. [Importing modules and the dataset](#1)\n",
    "2. [Data cleaning / Prepping](#2)\n",
    "3. [Some Exploratory Data Analysis](#3)\n",
    "4. [Feature Engineering](#4)\n",
    "5. [Model training](#5)\n",
    "6. [Conclusion](#6)"
   ]
  },
  {
   "cell_type": "markdown",
   "id": "a703e2aa-beba-430a-a64e-b6fdb33bbaf1",
   "metadata": {
    "execution": {
     "iopub.execute_input": "2021-07-28T07:04:40.191995Z",
     "iopub.status.busy": "2021-07-28T07:04:40.190358Z",
     "iopub.status.idle": "2021-07-28T07:04:40.203382Z",
     "shell.execute_reply": "2021-07-28T07:04:40.202006Z",
     "shell.execute_reply.started": "2021-07-28T07:04:40.191673Z"
    }
   },
   "source": [
    "<div id='1'></div>\n",
    "\n",
    "<br>\n",
    "\n",
    "### **1. Importing modules and the dataset**"
   ]
  },
  {
   "cell_type": "code",
   "execution_count": 1,
   "id": "c5c0a9ca-be49-4ef4-8124-dbf2eb368aa5",
   "metadata": {
    "execution": {
     "iopub.execute_input": "2021-07-28T10:10:07.439421Z",
     "iopub.status.busy": "2021-07-28T10:10:07.438477Z",
     "iopub.status.idle": "2021-07-28T10:10:08.695017Z",
     "shell.execute_reply": "2021-07-28T10:10:08.694506Z",
     "shell.execute_reply.started": "2021-07-28T10:10:07.439143Z"
    },
    "tags": []
   },
   "outputs": [],
   "source": [
    "# Set up\n",
    "import numpy as np\n",
    "import pandas as pd\n",
    "import re\n",
    "\n",
    "# Visualizations\n",
    "import seaborn as sns \n",
    "import matplotlib.pyplot as plt\n",
    "from sklearn.metrics import plot_confusion_matrix\n",
    "\n",
    "# ML\n",
    "from sklearn.preprocessing import OneHotEncoder, StandardScaler, MinMaxScaler\n",
    "from sklearn.decomposition import PCA\n",
    "from sklearn.model_selection import train_test_split\n",
    "\n",
    "from sklearn.linear_model import LogisticRegression\n",
    "from sklearn.neighbors import KNeighborsClassifier\n",
    "from sklearn.svm import SVC\n",
    "from sklearn.tree import DecisionTreeClassifier\n",
    "\n",
    "from sklearn.metrics import accuracy_score, confusion_matrix"
   ]
  },
  {
   "cell_type": "code",
   "execution_count": 2,
   "id": "d40106de-5943-430c-85f6-30a85e1021b9",
   "metadata": {
    "execution": {
     "iopub.execute_input": "2021-07-28T10:10:08.696215Z",
     "iopub.status.busy": "2021-07-28T10:10:08.695998Z",
     "iopub.status.idle": "2021-07-28T10:10:08.769198Z",
     "shell.execute_reply": "2021-07-28T10:10:08.766098Z",
     "shell.execute_reply.started": "2021-07-28T10:10:08.696188Z"
    },
    "tags": []
   },
   "outputs": [
    {
     "data": {
      "text/html": [
       "<div>\n",
       "<style scoped>\n",
       "    .dataframe tbody tr th:only-of-type {\n",
       "        vertical-align: middle;\n",
       "    }\n",
       "\n",
       "    .dataframe tbody tr th {\n",
       "        vertical-align: top;\n",
       "    }\n",
       "\n",
       "    .dataframe thead th {\n",
       "        text-align: right;\n",
       "    }\n",
       "</style>\n",
       "<table border=\"1\" class=\"dataframe\">\n",
       "  <thead>\n",
       "    <tr style=\"text-align: right;\">\n",
       "      <th></th>\n",
       "      <th>PassengerId</th>\n",
       "      <th>Survived</th>\n",
       "      <th>Pclass</th>\n",
       "      <th>Name</th>\n",
       "      <th>Sex</th>\n",
       "      <th>Age</th>\n",
       "      <th>SibSp</th>\n",
       "      <th>Parch</th>\n",
       "      <th>Ticket</th>\n",
       "      <th>Fare</th>\n",
       "      <th>Cabin</th>\n",
       "      <th>Embarked</th>\n",
       "    </tr>\n",
       "  </thead>\n",
       "  <tbody>\n",
       "    <tr>\n",
       "      <th>0</th>\n",
       "      <td>1</td>\n",
       "      <td>0</td>\n",
       "      <td>3</td>\n",
       "      <td>Braund, Mr. Owen Harris</td>\n",
       "      <td>male</td>\n",
       "      <td>22.0</td>\n",
       "      <td>1</td>\n",
       "      <td>0</td>\n",
       "      <td>A/5 21171</td>\n",
       "      <td>7.2500</td>\n",
       "      <td>NaN</td>\n",
       "      <td>S</td>\n",
       "    </tr>\n",
       "    <tr>\n",
       "      <th>1</th>\n",
       "      <td>2</td>\n",
       "      <td>1</td>\n",
       "      <td>1</td>\n",
       "      <td>Cumings, Mrs. John Bradley (Florence Briggs Th...</td>\n",
       "      <td>female</td>\n",
       "      <td>38.0</td>\n",
       "      <td>1</td>\n",
       "      <td>0</td>\n",
       "      <td>PC 17599</td>\n",
       "      <td>71.2833</td>\n",
       "      <td>C85</td>\n",
       "      <td>C</td>\n",
       "    </tr>\n",
       "    <tr>\n",
       "      <th>2</th>\n",
       "      <td>3</td>\n",
       "      <td>1</td>\n",
       "      <td>3</td>\n",
       "      <td>Heikkinen, Miss. Laina</td>\n",
       "      <td>female</td>\n",
       "      <td>26.0</td>\n",
       "      <td>0</td>\n",
       "      <td>0</td>\n",
       "      <td>STON/O2. 3101282</td>\n",
       "      <td>7.9250</td>\n",
       "      <td>NaN</td>\n",
       "      <td>S</td>\n",
       "    </tr>\n",
       "    <tr>\n",
       "      <th>3</th>\n",
       "      <td>4</td>\n",
       "      <td>1</td>\n",
       "      <td>1</td>\n",
       "      <td>Futrelle, Mrs. Jacques Heath (Lily May Peel)</td>\n",
       "      <td>female</td>\n",
       "      <td>35.0</td>\n",
       "      <td>1</td>\n",
       "      <td>0</td>\n",
       "      <td>113803</td>\n",
       "      <td>53.1000</td>\n",
       "      <td>C123</td>\n",
       "      <td>S</td>\n",
       "    </tr>\n",
       "    <tr>\n",
       "      <th>4</th>\n",
       "      <td>5</td>\n",
       "      <td>0</td>\n",
       "      <td>3</td>\n",
       "      <td>Allen, Mr. William Henry</td>\n",
       "      <td>male</td>\n",
       "      <td>35.0</td>\n",
       "      <td>0</td>\n",
       "      <td>0</td>\n",
       "      <td>373450</td>\n",
       "      <td>8.0500</td>\n",
       "      <td>NaN</td>\n",
       "      <td>S</td>\n",
       "    </tr>\n",
       "  </tbody>\n",
       "</table>\n",
       "</div>"
      ],
      "text/plain": [
       "   PassengerId  Survived  Pclass  \\\n",
       "0            1         0       3   \n",
       "1            2         1       1   \n",
       "2            3         1       3   \n",
       "3            4         1       1   \n",
       "4            5         0       3   \n",
       "\n",
       "                                                Name     Sex   Age  SibSp  \\\n",
       "0                            Braund, Mr. Owen Harris    male  22.0      1   \n",
       "1  Cumings, Mrs. John Bradley (Florence Briggs Th...  female  38.0      1   \n",
       "2                             Heikkinen, Miss. Laina  female  26.0      0   \n",
       "3       Futrelle, Mrs. Jacques Heath (Lily May Peel)  female  35.0      1   \n",
       "4                           Allen, Mr. William Henry    male  35.0      0   \n",
       "\n",
       "   Parch            Ticket     Fare Cabin Embarked  \n",
       "0      0         A/5 21171   7.2500   NaN        S  \n",
       "1      0          PC 17599  71.2833   C85        C  \n",
       "2      0  STON/O2. 3101282   7.9250   NaN        S  \n",
       "3      0            113803  53.1000  C123        S  \n",
       "4      0            373450   8.0500   NaN        S  "
      ]
     },
     "metadata": {},
     "output_type": "display_data"
    },
    {
     "data": {
      "text/html": [
       "<div>\n",
       "<style scoped>\n",
       "    .dataframe tbody tr th:only-of-type {\n",
       "        vertical-align: middle;\n",
       "    }\n",
       "\n",
       "    .dataframe tbody tr th {\n",
       "        vertical-align: top;\n",
       "    }\n",
       "\n",
       "    .dataframe thead th {\n",
       "        text-align: right;\n",
       "    }\n",
       "</style>\n",
       "<table border=\"1\" class=\"dataframe\">\n",
       "  <thead>\n",
       "    <tr style=\"text-align: right;\">\n",
       "      <th></th>\n",
       "      <th>PassengerId</th>\n",
       "      <th>Pclass</th>\n",
       "      <th>Name</th>\n",
       "      <th>Sex</th>\n",
       "      <th>Age</th>\n",
       "      <th>SibSp</th>\n",
       "      <th>Parch</th>\n",
       "      <th>Ticket</th>\n",
       "      <th>Fare</th>\n",
       "      <th>Cabin</th>\n",
       "      <th>Embarked</th>\n",
       "    </tr>\n",
       "  </thead>\n",
       "  <tbody>\n",
       "    <tr>\n",
       "      <th>0</th>\n",
       "      <td>892</td>\n",
       "      <td>3</td>\n",
       "      <td>Kelly, Mr. James</td>\n",
       "      <td>male</td>\n",
       "      <td>34.5</td>\n",
       "      <td>0</td>\n",
       "      <td>0</td>\n",
       "      <td>330911</td>\n",
       "      <td>7.8292</td>\n",
       "      <td>NaN</td>\n",
       "      <td>Q</td>\n",
       "    </tr>\n",
       "    <tr>\n",
       "      <th>1</th>\n",
       "      <td>893</td>\n",
       "      <td>3</td>\n",
       "      <td>Wilkes, Mrs. James (Ellen Needs)</td>\n",
       "      <td>female</td>\n",
       "      <td>47.0</td>\n",
       "      <td>1</td>\n",
       "      <td>0</td>\n",
       "      <td>363272</td>\n",
       "      <td>7.0000</td>\n",
       "      <td>NaN</td>\n",
       "      <td>S</td>\n",
       "    </tr>\n",
       "    <tr>\n",
       "      <th>2</th>\n",
       "      <td>894</td>\n",
       "      <td>2</td>\n",
       "      <td>Myles, Mr. Thomas Francis</td>\n",
       "      <td>male</td>\n",
       "      <td>62.0</td>\n",
       "      <td>0</td>\n",
       "      <td>0</td>\n",
       "      <td>240276</td>\n",
       "      <td>9.6875</td>\n",
       "      <td>NaN</td>\n",
       "      <td>Q</td>\n",
       "    </tr>\n",
       "    <tr>\n",
       "      <th>3</th>\n",
       "      <td>895</td>\n",
       "      <td>3</td>\n",
       "      <td>Wirz, Mr. Albert</td>\n",
       "      <td>male</td>\n",
       "      <td>27.0</td>\n",
       "      <td>0</td>\n",
       "      <td>0</td>\n",
       "      <td>315154</td>\n",
       "      <td>8.6625</td>\n",
       "      <td>NaN</td>\n",
       "      <td>S</td>\n",
       "    </tr>\n",
       "    <tr>\n",
       "      <th>4</th>\n",
       "      <td>896</td>\n",
       "      <td>3</td>\n",
       "      <td>Hirvonen, Mrs. Alexander (Helga E Lindqvist)</td>\n",
       "      <td>female</td>\n",
       "      <td>22.0</td>\n",
       "      <td>1</td>\n",
       "      <td>1</td>\n",
       "      <td>3101298</td>\n",
       "      <td>12.2875</td>\n",
       "      <td>NaN</td>\n",
       "      <td>S</td>\n",
       "    </tr>\n",
       "  </tbody>\n",
       "</table>\n",
       "</div>"
      ],
      "text/plain": [
       "   PassengerId  Pclass                                          Name     Sex  \\\n",
       "0          892       3                              Kelly, Mr. James    male   \n",
       "1          893       3              Wilkes, Mrs. James (Ellen Needs)  female   \n",
       "2          894       2                     Myles, Mr. Thomas Francis    male   \n",
       "3          895       3                              Wirz, Mr. Albert    male   \n",
       "4          896       3  Hirvonen, Mrs. Alexander (Helga E Lindqvist)  female   \n",
       "\n",
       "    Age  SibSp  Parch   Ticket     Fare Cabin Embarked  \n",
       "0  34.5      0      0   330911   7.8292   NaN        Q  \n",
       "1  47.0      1      0   363272   7.0000   NaN        S  \n",
       "2  62.0      0      0   240276   9.6875   NaN        Q  \n",
       "3  27.0      0      0   315154   8.6625   NaN        S  \n",
       "4  22.0      1      1  3101298  12.2875   NaN        S  "
      ]
     },
     "metadata": {},
     "output_type": "display_data"
    }
   ],
   "source": [
    "train = pd.read_csv('dataset/train.csv')\n",
    "test = pd.read_csv('dataset/test.csv')\n",
    "\n",
    "target = train.Survived\n",
    "\n",
    "display(train.head())\n",
    "display(test.head())"
   ]
  },
  {
   "cell_type": "code",
   "execution_count": 3,
   "id": "af46a0cd-c9d8-486c-8932-e246449396e6",
   "metadata": {
    "execution": {
     "iopub.execute_input": "2021-07-28T10:10:08.772657Z",
     "iopub.status.busy": "2021-07-28T10:10:08.772170Z",
     "iopub.status.idle": "2021-07-28T10:10:08.805143Z",
     "shell.execute_reply": "2021-07-28T10:10:08.803249Z",
     "shell.execute_reply.started": "2021-07-28T10:10:08.772618Z"
    },
    "tags": []
   },
   "outputs": [
    {
     "name": "stdout",
     "output_type": "stream",
     "text": [
      "<class 'pandas.core.frame.DataFrame'>\n",
      "RangeIndex: 891 entries, 0 to 890\n",
      "Data columns (total 12 columns):\n",
      " #   Column       Non-Null Count  Dtype  \n",
      "---  ------       --------------  -----  \n",
      " 0   PassengerId  891 non-null    int64  \n",
      " 1   Survived     891 non-null    int64  \n",
      " 2   Pclass       891 non-null    int64  \n",
      " 3   Name         891 non-null    object \n",
      " 4   Sex          891 non-null    object \n",
      " 5   Age          714 non-null    float64\n",
      " 6   SibSp        891 non-null    int64  \n",
      " 7   Parch        891 non-null    int64  \n",
      " 8   Ticket       891 non-null    object \n",
      " 9   Fare         891 non-null    float64\n",
      " 10  Cabin        204 non-null    object \n",
      " 11  Embarked     889 non-null    object \n",
      "dtypes: float64(2), int64(5), object(5)\n",
      "memory usage: 83.7+ KB\n"
     ]
    },
    {
     "data": {
      "text/plain": [
       "None"
      ]
     },
     "metadata": {},
     "output_type": "display_data"
    }
   ],
   "source": [
    "display(train.info())"
   ]
  },
  {
   "cell_type": "markdown",
   "id": "90cd866a-d452-4cff-8d82-0ef659408d7a",
   "metadata": {},
   "source": [
    "<div id='2'></div>\n",
    "\n",
    "<br>\n",
    "\n",
    "### **2. Data Cleaning / Prepping**"
   ]
  },
  {
   "cell_type": "code",
   "execution_count": 4,
   "id": "39af06b6-936f-4f8d-80f9-d0180aed97af",
   "metadata": {
    "execution": {
     "iopub.execute_input": "2021-07-28T10:10:08.806997Z",
     "iopub.status.busy": "2021-07-28T10:10:08.806723Z",
     "iopub.status.idle": "2021-07-28T10:10:08.906742Z",
     "shell.execute_reply": "2021-07-28T10:10:08.905904Z",
     "shell.execute_reply.started": "2021-07-28T10:10:08.806964Z"
    },
    "tags": []
   },
   "outputs": [
    {
     "name": "stdout",
     "output_type": "stream",
     "text": [
      "Train columns with null values:\n",
      "PassengerId      0\n",
      "Survived         0\n",
      "Pclass           0\n",
      "Name             0\n",
      "Sex              0\n",
      "Age            177\n",
      "SibSp            0\n",
      "Parch            0\n",
      "Ticket           0\n",
      "Fare             0\n",
      "Cabin          687\n",
      "Embarked         2\n",
      "dtype: int64\n",
      "\n",
      "Test columns with null values:\n",
      "PassengerId      0\n",
      "Pclass           0\n",
      "Name             0\n",
      "Sex              0\n",
      "Age             86\n",
      "SibSp            0\n",
      "Parch            0\n",
      "Ticket           0\n",
      "Fare             1\n",
      "Cabin          327\n",
      "Embarked         0\n",
      "dtype: int64\n"
     ]
    }
   ],
   "source": [
    "print('Train columns with null values:')\n",
    "print(train.isnull().sum())\n",
    "\n",
    "print('\\nTest columns with null values:')\n",
    "print(test.isnull().sum())"
   ]
  },
  {
   "cell_type": "code",
   "execution_count": 5,
   "id": "df56cf17-742d-44bf-a910-4319b418a9c2",
   "metadata": {
    "execution": {
     "iopub.execute_input": "2021-07-28T10:10:08.915144Z",
     "iopub.status.busy": "2021-07-28T10:10:08.914760Z",
     "iopub.status.idle": "2021-07-28T10:10:09.044826Z",
     "shell.execute_reply": "2021-07-28T10:10:09.043913Z",
     "shell.execute_reply.started": "2021-07-28T10:10:08.915106Z"
    },
    "tags": []
   },
   "outputs": [],
   "source": [
    "# Taking care of missing data in Training set\n",
    "train['Age'].fillna(train['Age'].median(), inplace = True)\n",
    "train['Embarked'].fillna(train['Embarked'].mode()[0], inplace = True)\n",
    "train['Fare'].fillna(train['Fare'].median(), inplace = True)\n",
    "train['Cabin'].fillna('U', inplace = True)"
   ]
  },
  {
   "cell_type": "code",
   "execution_count": 6,
   "id": "97cf1452-527f-40a7-97e0-8784dec76175",
   "metadata": {
    "execution": {
     "iopub.execute_input": "2021-07-28T10:10:09.046845Z",
     "iopub.status.busy": "2021-07-28T10:10:09.046195Z",
     "iopub.status.idle": "2021-07-28T10:10:09.144505Z",
     "shell.execute_reply": "2021-07-28T10:10:09.143776Z",
     "shell.execute_reply.started": "2021-07-28T10:10:09.046807Z"
    },
    "tags": []
   },
   "outputs": [],
   "source": [
    "test['Age'].fillna(test['Age'].median(), inplace = True)\n",
    "test['Embarked'].fillna(test['Embarked'].mode()[0], inplace = True)\n",
    "test['Fare'].fillna(test['Fare'].median(), inplace = True)\n",
    "test['Cabin'].fillna('U', inplace = True)"
   ]
  },
  {
   "cell_type": "code",
   "execution_count": 7,
   "id": "f2f8491a-bde5-4ad2-9b29-d84cc4da5d7d",
   "metadata": {
    "execution": {
     "iopub.execute_input": "2021-07-28T10:10:09.145928Z",
     "iopub.status.busy": "2021-07-28T10:10:09.145496Z",
     "iopub.status.idle": "2021-07-28T10:10:09.260121Z",
     "shell.execute_reply": "2021-07-28T10:10:09.259002Z",
     "shell.execute_reply.started": "2021-07-28T10:10:09.145893Z"
    },
    "tags": []
   },
   "outputs": [
    {
     "name": "stdout",
     "output_type": "stream",
     "text": [
      "Train columns with null values:\n",
      "PassengerId    0\n",
      "Survived       0\n",
      "Pclass         0\n",
      "Name           0\n",
      "Sex            0\n",
      "Age            0\n",
      "SibSp          0\n",
      "Parch          0\n",
      "Ticket         0\n",
      "Fare           0\n",
      "Cabin          0\n",
      "Embarked       0\n",
      "dtype: int64\n",
      "\n",
      "Test columns with null values:\n",
      "PassengerId    0\n",
      "Pclass         0\n",
      "Name           0\n",
      "Sex            0\n",
      "Age            0\n",
      "SibSp          0\n",
      "Parch          0\n",
      "Ticket         0\n",
      "Fare           0\n",
      "Cabin          0\n",
      "Embarked       0\n",
      "dtype: int64\n"
     ]
    }
   ],
   "source": [
    "print('Train columns with null values:')\n",
    "print(train.isnull().sum())\n",
    "\n",
    "print('\\nTest columns with null values:')\n",
    "print(test.isnull().sum())"
   ]
  },
  {
   "cell_type": "markdown",
   "id": "8961ffbc-27d8-4622-a601-cf54280136fb",
   "metadata": {},
   "source": [
    "<div id='3'></div>\n",
    "\n",
    "<br>\n",
    "\n",
    "### **3. Some Exploratory Data Analysis**"
   ]
  },
  {
   "cell_type": "markdown",
   "id": "fdabb7a7-fd1c-4587-89cd-c2b0815cbd32",
   "metadata": {},
   "source": [
    "#### a) Univariate Analysis"
   ]
  },
  {
   "cell_type": "code",
   "execution_count": 8,
   "id": "8be673c4-3665-49d6-9e84-5385766356f6",
   "metadata": {
    "execution": {
     "iopub.execute_input": "2021-07-28T10:10:09.261781Z",
     "iopub.status.busy": "2021-07-28T10:10:09.261570Z",
     "iopub.status.idle": "2021-07-28T10:10:09.442424Z",
     "shell.execute_reply": "2021-07-28T10:10:09.440837Z",
     "shell.execute_reply.started": "2021-07-28T10:10:09.261758Z"
    },
    "tags": []
   },
   "outputs": [
    {
     "name": "stdout",
     "output_type": "stream",
     "text": [
      "Unique Values in Pclass :[3 1 2]\n",
      "Unique Values in SibSp :[1 0 3 4 2 5 8]\n",
      "Unique Values in Embarked :['S' 'C' 'Q']\n"
     ]
    }
   ],
   "source": [
    "print(f'Unique Values in Pclass :{train.Pclass.unique()}')\n",
    "print(f'Unique Values in SibSp :{train.SibSp.unique()}')\n",
    "print(f'Unique Values in Embarked :{train.Embarked.unique()}')"
   ]
  },
  {
   "cell_type": "code",
   "execution_count": 9,
   "id": "2f97af9f-a0fb-4c69-b237-c74ac0b3785a",
   "metadata": {
    "execution": {
     "iopub.execute_input": "2021-07-28T10:10:09.444400Z",
     "iopub.status.busy": "2021-07-28T10:10:09.444054Z",
     "iopub.status.idle": "2021-07-28T10:10:09.912531Z",
     "shell.execute_reply": "2021-07-28T10:10:09.911392Z",
     "shell.execute_reply.started": "2021-07-28T10:10:09.444359Z"
    },
    "tags": []
   },
   "outputs": [
    {
     "data": {
      "image/png": "[encoded data removed]",
      "text/plain": [
       "<Figure size 720x288 with 2 Axes>"
      ]
     },
     "metadata": {
      "needs_background": "light"
     },
     "output_type": "display_data"
    }
   ],
   "source": [
    "# Analyzing the target feature \n",
    "plt.figure(figsize = (10, 4))\n",
    "\n",
    "plt.subplot(121)\n",
    "sns.countplot(x = train['Survived'])\n",
    "plt.title('Number of passengers survived')\n",
    "\n",
    "plt.subplot(122)\n",
    "sns.countplot(x = 'Survived', hue = 'Sex', data = train)\n",
    "plt.title('Number of passengers survived')\n",
    "\n",
    "plt.show()"
   ]
  },
  {
   "cell_type": "code",
   "execution_count": 10,
   "id": "979b3486-cd04-409d-a16d-afb9adaf1579",
   "metadata": {
    "execution": {
     "iopub.execute_input": "2021-07-28T10:10:09.915940Z",
     "iopub.status.busy": "2021-07-28T10:10:09.915087Z",
     "iopub.status.idle": "2021-07-28T10:10:10.395226Z",
     "shell.execute_reply": "2021-07-28T10:10:10.394396Z",
     "shell.execute_reply.started": "2021-07-28T10:10:09.915847Z"
    },
    "tags": []
   },
   "outputs": [
    {
     "data": {
      "image/png": "[encoded data removed]",
      "text/plain": [
       "<Figure size 720x288 with 2 Axes>"
      ]
     },
     "metadata": {
      "needs_background": "light"
     },
     "output_type": "display_data"
    }
   ],
   "source": [
    "# Analyzing the Pclass\n",
    "plt.figure(figsize = (10, 4))\n",
    "\n",
    "plt.subplot(121)\n",
    "sns.countplot(x = train['Pclass'])\n",
    "plt.title('Count Plot for Pclass')\n",
    "\n",
    "plt.subplot(122)\n",
    "sns.countplot(x = 'Survived', hue = 'Pclass', data = train)\n",
    "plt.title('Number of passengers survived grouped by Pclass')\n",
    "\n",
    "plt.show()"
   ]
  },
  {
   "cell_type": "code",
   "execution_count": 11,
   "id": "16993d6a-7b6c-4902-aa94-6ede70cbbc90",
   "metadata": {
    "execution": {
     "iopub.execute_input": "2021-07-28T10:10:10.397209Z",
     "iopub.status.busy": "2021-07-28T10:10:10.396952Z",
     "iopub.status.idle": "2021-07-28T10:10:10.770700Z",
     "shell.execute_reply": "2021-07-28T10:10:10.769845Z",
     "shell.execute_reply.started": "2021-07-28T10:10:10.397179Z"
    },
    "tags": []
   },
   "outputs": [
    {
     "data": {
      "image/png": "[encoded data removed]",
      "text/plain": [
       "<Figure size 432x288 with 1 Axes>"
      ]
     },
     "metadata": {
      "needs_background": "light"
     },
     "output_type": "display_data"
    }
   ],
   "source": [
    "# Age Columns\n",
    "train['Age'].hist(bins = 25)\n",
    "plt.xlabel('Age')\n",
    "plt.title('Age distribution')\n",
    "plt.show()"
   ]
  },
  {
   "cell_type": "code",
   "execution_count": 12,
   "id": "838c1cef-1f8f-4ff7-b2c2-57410a7ce2b2",
   "metadata": {
    "execution": {
     "iopub.execute_input": "2021-07-28T10:10:10.772574Z",
     "iopub.status.busy": "2021-07-28T10:10:10.772113Z",
     "iopub.status.idle": "2021-07-28T10:10:11.291979Z",
     "shell.execute_reply": "2021-07-28T10:10:11.291361Z",
     "shell.execute_reply.started": "2021-07-28T10:10:10.772537Z"
    },
    "tags": []
   },
   "outputs": [
    {
     "data": {
      "image/png": "[encoded data removed]",
      "text/plain": [
       "<Figure size 720x288 with 2 Axes>"
      ]
     },
     "metadata": {
      "needs_background": "light"
     },
     "output_type": "display_data"
    }
   ],
   "source": [
    "# Analyzing siblings / spouses onboard\n",
    "plt.figure(figsize=(10,4))\n",
    "\n",
    "plt.subplot(121)\n",
    "sns.countplot(x = train['SibSp'])\n",
    "plt.title('Number of siblings/spouses aboard')\n",
    "\n",
    "plt.subplot(122)\n",
    "sns.countplot(x='Survived', hue='SibSp', data=train)\n",
    "plt.legend(loc='right')\n",
    "plt.title('Number of passenger Survived')\n",
    "\n",
    "plt.show()"
   ]
  },
  {
   "cell_type": "code",
   "execution_count": 13,
   "id": "a70f4309-ba14-4ab0-b516-7a96766dc69e",
   "metadata": {
    "execution": {
     "iopub.execute_input": "2021-07-28T10:10:11.293181Z",
     "iopub.status.busy": "2021-07-28T10:10:11.292915Z",
     "iopub.status.idle": "2021-07-28T10:10:11.729867Z",
     "shell.execute_reply": "2021-07-28T10:10:11.728840Z",
     "shell.execute_reply.started": "2021-07-28T10:10:11.293149Z"
    },
    "tags": []
   },
   "outputs": [
    {
     "data": {
      "image/png": "[encoded data removed]",
      "text/plain": [
       "<Figure size 720x288 with 2 Axes>"
      ]
     },
     "metadata": {
      "needs_background": "light"
     },
     "output_type": "display_data"
    }
   ],
   "source": [
    "# Analyzing Embarktion port\n",
    "plt.figure(figsize=(10,4))\n",
    "\n",
    "plt.subplot(121)\n",
    "sns.countplot(x = train['Embarked'])\n",
    "plt.title('Number of Port of embarkation')\n",
    "\n",
    "plt.subplot(122)\n",
    "sns.countplot(x='Survived', hue='Embarked', data=train)\n",
    "plt.legend(loc='right')\n",
    "plt.title('Number of passenger Survived')\n",
    "\n",
    "plt.show()"
   ]
  },
  {
   "cell_type": "markdown",
   "id": "3a511c50-186d-42f5-9a75-7fc87f7da5ca",
   "metadata": {},
   "source": [
    "<br>\n",
    "\n",
    "#### b) Bivariate Analysis"
   ]
  },
  {
   "cell_type": "code",
   "execution_count": 14,
   "id": "93f45a83-7d46-47f2-9716-12e300a4068b",
   "metadata": {
    "execution": {
     "iopub.execute_input": "2021-07-28T10:10:11.736430Z",
     "iopub.status.busy": "2021-07-28T10:10:11.735521Z",
     "iopub.status.idle": "2021-07-28T10:10:12.077210Z",
     "shell.execute_reply": "2021-07-28T10:10:12.076439Z",
     "shell.execute_reply.started": "2021-07-28T10:10:11.736324Z"
    },
    "tags": []
   },
   "outputs": [
    {
     "data": {
      "image/png": "[encoded data removed]",
      "text/plain": [
       "<Figure size 720x432 with 1 Axes>"
      ]
     },
     "metadata": {
      "needs_background": "light"
     },
     "output_type": "display_data"
    }
   ],
   "source": [
    "# Fare vs Embarked \n",
    "plt.figure(figsize = (10, 6))\n",
    "sns.violinplot(x = 'Embarked', y = 'Fare', data = train, order = ['C', 'Q', 'S'])\n",
    "plt.title('Distribution of Fare by Embarked')\n",
    "plt.show()"
   ]
  },
  {
   "cell_type": "code",
   "execution_count": 15,
   "id": "8740244e-35e1-494c-bbd8-c4c70c8f381b",
   "metadata": {
    "execution": {
     "iopub.execute_input": "2021-07-28T10:10:12.078574Z",
     "iopub.status.busy": "2021-07-28T10:10:12.078289Z",
     "iopub.status.idle": "2021-07-28T10:10:12.374720Z",
     "shell.execute_reply": "2021-07-28T10:10:12.373879Z",
     "shell.execute_reply.started": "2021-07-28T10:10:12.078545Z"
    },
    "tags": []
   },
   "outputs": [
    {
     "data": {
      "image/png": "[encoded data removed]",
      "text/plain": [
       "<Figure size 720x432 with 1 Axes>"
      ]
     },
     "metadata": {
      "needs_background": "light"
     },
     "output_type": "display_data"
    }
   ],
   "source": [
    "# Fare vs Pclass\n",
    "plt.figure(figsize = (10, 6))\n",
    "sns.violinplot(x = 'Pclass', y = 'Fare', data = train)\n",
    "plt.title('Distribution of Fare by Pclass')\n",
    "plt.show()"
   ]
  },
  {
   "cell_type": "code",
   "execution_count": 16,
   "id": "2bf3afff-7ec2-4848-9442-f83f5f701dad",
   "metadata": {
    "execution": {
     "iopub.execute_input": "2021-07-28T10:10:12.376134Z",
     "iopub.status.busy": "2021-07-28T10:10:12.375828Z",
     "iopub.status.idle": "2021-07-28T10:10:13.154600Z",
     "shell.execute_reply": "2021-07-28T10:10:13.152190Z",
     "shell.execute_reply.started": "2021-07-28T10:10:12.376103Z"
    },
    "tags": []
   },
   "outputs": [
    {
     "data": {
      "image/png": "[encoded data removed]",
      "text/plain": [
       "<Figure size 720x576 with 2 Axes>"
      ]
     },
     "metadata": {
      "needs_background": "light"
     },
     "output_type": "display_data"
    }
   ],
   "source": [
    "# Correlation Heatmap \n",
    "plt.figure(figsize = (10, 8))\n",
    "sns.heatmap(train.corr(), annot = True)\n",
    "plt.show()"
   ]
  },
  {
   "cell_type": "markdown",
   "id": "060ba17f-d703-4254-bfe9-e0141432c50b",
   "metadata": {},
   "source": [
    "<div id='4'></div>\n",
    "\n",
    "<br>\n",
    "\n",
    "### **4. Feature Engineering**"
   ]
  },
  {
   "cell_type": "markdown",
   "id": "3e6f34d9-8c74-470c-8263-15abd8ce799b",
   "metadata": {},
   "source": [
    "<br> \n",
    "Fixing Sex column with integers as it is a categorical value"
   ]
  },
  {
   "cell_type": "code",
   "execution_count": 17,
   "id": "2c85be3c-4f0e-4d3f-a6ba-175375f7940e",
   "metadata": {
    "execution": {
     "iopub.execute_input": "2021-07-28T10:10:13.158165Z",
     "iopub.status.busy": "2021-07-28T10:10:13.157551Z",
     "iopub.status.idle": "2021-07-28T10:10:13.168467Z",
     "shell.execute_reply": "2021-07-28T10:10:13.167594Z",
     "shell.execute_reply.started": "2021-07-28T10:10:13.158109Z"
    },
    "tags": []
   },
   "outputs": [],
   "source": [
    "train['Sex'].replace({'male': 0, 'female': 1}, inplace = True)\n",
    "test['Sex'].replace({'male': 0, 'female': 1}, inplace = True)"
   ]
  },
  {
   "cell_type": "markdown",
   "id": "91ccc2fb-c2d4-4daf-ba93-3435fb8c2ff5",
   "metadata": {},
   "source": [
    "<br>\n",
    "Taking care of the Embarked as it is a categorical value, we will encode it using OneHotEncoder."
   ]
  },
  {
   "cell_type": "code",
   "execution_count": 18,
   "id": "192e0d37-751e-4c5b-b69b-0c0248d341e3",
   "metadata": {
    "execution": {
     "iopub.execute_input": "2021-07-28T10:10:13.170360Z",
     "iopub.status.busy": "2021-07-28T10:10:13.169909Z",
     "iopub.status.idle": "2021-07-28T10:10:13.298382Z",
     "shell.execute_reply": "2021-07-28T10:10:13.296804Z",
     "shell.execute_reply.started": "2021-07-28T10:10:13.170325Z"
    },
    "tags": []
   },
   "outputs": [
    {
     "data": {
      "text/plain": [
       "array(['S', 'C', 'Q'], dtype=object)"
      ]
     },
     "execution_count": 18,
     "metadata": {},
     "output_type": "execute_result"
    }
   ],
   "source": [
    "train.Embarked.unique()"
   ]
  },
  {
   "cell_type": "code",
   "execution_count": 19,
   "id": "a280a3f9-1469-4a65-945c-d6a19fe49480",
   "metadata": {
    "execution": {
     "iopub.execute_input": "2021-07-28T10:10:13.303020Z",
     "iopub.status.busy": "2021-07-28T10:10:13.302689Z",
     "iopub.status.idle": "2021-07-28T10:10:13.413048Z",
     "shell.execute_reply": "2021-07-28T10:10:13.412397Z",
     "shell.execute_reply.started": "2021-07-28T10:10:13.302981Z"
    },
    "tags": []
   },
   "outputs": [],
   "source": [
    "encoder = OneHotEncoder()\n",
    "temp = pd.DataFrame(encoder.fit_transform(train[['Embarked']]).toarray(), columns=['S', 'C', 'Q'])\n",
    "train = train.join(temp)\n",
    "train.drop(columns='Embarked', inplace=True)\n",
    "\n",
    "temp = pd.DataFrame(encoder.transform(test[['Embarked']]).toarray(), columns=['S', 'C', 'Q'])\n",
    "test = test.join(temp)\n",
    "test.drop(columns='Embarked', inplace=True)"
   ]
  },
  {
   "cell_type": "code",
   "execution_count": 20,
   "id": "70b254a3-04ea-4f85-a487-c7ef1b14afb0",
   "metadata": {
    "execution": {
     "iopub.execute_input": "2021-07-28T10:10:13.414462Z",
     "iopub.status.busy": "2021-07-28T10:10:13.414131Z",
     "iopub.status.idle": "2021-07-28T10:10:13.523082Z",
     "shell.execute_reply": "2021-07-28T10:10:13.522279Z",
     "shell.execute_reply.started": "2021-07-28T10:10:13.414424Z"
    },
    "tags": []
   },
   "outputs": [
    {
     "data": {
      "text/plain": [
       "Index(['PassengerId', 'Survived', 'Pclass', 'Name', 'Sex', 'Age', 'SibSp',\n",
       "       'Parch', 'Ticket', 'Fare', 'Cabin', 'S', 'C', 'Q'],\n",
       "      dtype='object')"
      ]
     },
     "execution_count": 20,
     "metadata": {},
     "output_type": "execute_result"
    }
   ],
   "source": [
    "train.columns"
   ]
  },
  {
   "cell_type": "markdown",
   "id": "1c24eb9e-d726-4d54-8276-65f58fd7c113",
   "metadata": {},
   "source": [
    "<br> \n",
    "Taking care of the Cabin List"
   ]
  },
  {
   "cell_type": "code",
   "execution_count": 21,
   "id": "d3576be3-6cd2-4cdd-9609-2d3671073d54",
   "metadata": {
    "execution": {
     "iopub.execute_input": "2021-07-28T10:10:13.524565Z",
     "iopub.status.busy": "2021-07-28T10:10:13.524242Z",
     "iopub.status.idle": "2021-07-28T10:10:13.677518Z",
     "shell.execute_reply": "2021-07-28T10:10:13.676753Z",
     "shell.execute_reply.started": "2021-07-28T10:10:13.524519Z"
    },
    "tags": []
   },
   "outputs": [
    {
     "data": {
      "text/plain": [
       "['U',\n",
       " 'C85',\n",
       " 'U',\n",
       " 'C123',\n",
       " 'U',\n",
       " 'U',\n",
       " 'E46',\n",
       " 'U',\n",
       " 'U',\n",
       " 'U',\n",
       " 'G6',\n",
       " 'C103',\n",
       " 'U',\n",
       " 'U',\n",
       " 'U']"
      ]
     },
     "execution_count": 21,
     "metadata": {},
     "output_type": "execute_result"
    }
   ],
   "source": [
    "#Taking care of the Cabin List \n",
    "train.Cabin.tolist()[0: 15]"
   ]
  },
  {
   "cell_type": "code",
   "execution_count": 22,
   "id": "be3dca53-51c4-4fcd-a76d-48ad30f0bfbc",
   "metadata": {
    "execution": {
     "iopub.execute_input": "2021-07-28T10:10:13.678917Z",
     "iopub.status.busy": "2021-07-28T10:10:13.678621Z",
     "iopub.status.idle": "2021-07-28T10:10:13.828039Z",
     "shell.execute_reply": "2021-07-28T10:10:13.827257Z",
     "shell.execute_reply.started": "2021-07-28T10:10:13.678882Z"
    },
    "tags": []
   },
   "outputs": [],
   "source": [
    "# Taking only the alphabets using regex\n",
    "train['Cabin'] = train['Cabin'].map(lambda x:re.compile(\"([a-zA-Z])\").search(x).group())\n",
    "test['Cabin'] = test['Cabin'].map(lambda x:re.compile(\"([a-zA-Z])\").search(x).group())"
   ]
  },
  {
   "cell_type": "code",
   "execution_count": 23,
   "id": "beb02013-ec7c-4677-9746-eca2b74f40fe",
   "metadata": {
    "execution": {
     "iopub.execute_input": "2021-07-28T10:10:13.829301Z",
     "iopub.status.busy": "2021-07-28T10:10:13.828898Z",
     "iopub.status.idle": "2021-07-28T10:10:13.965042Z",
     "shell.execute_reply": "2021-07-28T10:10:13.964466Z",
     "shell.execute_reply.started": "2021-07-28T10:10:13.829266Z"
    },
    "tags": []
   },
   "outputs": [
    {
     "data": {
      "text/plain": [
       "array(['U', 'C', 'E', 'G', 'D', 'A', 'B', 'F', 'T'], dtype=object)"
      ]
     },
     "execution_count": 23,
     "metadata": {},
     "output_type": "execute_result"
    }
   ],
   "source": [
    "train.Cabin.unique()"
   ]
  },
  {
   "cell_type": "code",
   "execution_count": 24,
   "id": "ac93d609-4d34-42cb-b841-a1bbf5ea4484",
   "metadata": {
    "execution": {
     "iopub.execute_input": "2021-07-28T10:10:13.966107Z",
     "iopub.status.busy": "2021-07-28T10:10:13.965920Z",
     "iopub.status.idle": "2021-07-28T10:10:14.107271Z",
     "shell.execute_reply": "2021-07-28T10:10:14.106575Z",
     "shell.execute_reply.started": "2021-07-28T10:10:13.966086Z"
    },
    "tags": []
   },
   "outputs": [],
   "source": [
    "cabin_category = {'A' : 1, 'B' : 2, 'C' : 3, 'D' : 4, 'E' : 5, 'F' : 6, 'G' : 7, 'T' : 8, 'U' : 9}\n",
    "train['Cabin'] = train['Cabin'].map(cabin_category)\n",
    "test['Cabin'] = test['Cabin'].map(cabin_category)"
   ]
  },
  {
   "cell_type": "markdown",
   "id": "549fe8ec-9155-4955-8cbd-e0d4fdc844f4",
   "metadata": {},
   "source": [
    "<br>\n",
    "\n",
    "#### Now comes an important part, \n",
    "\n",
    "to fix the names i.e. to extract the titles, as the titles contribute in deciding survivability."
   ]
  },
  {
   "cell_type": "code",
   "execution_count": 25,
   "id": "df642522-6b82-427e-90ea-75f4e9448fa8",
   "metadata": {
    "execution": {
     "iopub.execute_input": "2021-07-28T10:10:14.108298Z",
     "iopub.status.busy": "2021-07-28T10:10:14.108108Z",
     "iopub.status.idle": "2021-07-28T10:10:14.257115Z",
     "shell.execute_reply": "2021-07-28T10:10:14.256347Z",
     "shell.execute_reply.started": "2021-07-28T10:10:14.108275Z"
    },
    "tags": []
   },
   "outputs": [
    {
     "data": {
      "text/plain": [
       "0                                Braund, Mr. Owen Harris\n",
       "1      Cumings, Mrs. John Bradley (Florence Briggs Th...\n",
       "2                                 Heikkinen, Miss. Laina\n",
       "3           Futrelle, Mrs. Jacques Heath (Lily May Peel)\n",
       "4                               Allen, Mr. William Henry\n",
       "                             ...                        \n",
       "886                                Montvila, Rev. Juozas\n",
       "887                         Graham, Miss. Margaret Edith\n",
       "888             Johnston, Miss. Catherine Helen \"Carrie\"\n",
       "889                                Behr, Mr. Karl Howell\n",
       "890                                  Dooley, Mr. Patrick\n",
       "Name: Name, Length: 891, dtype: object"
      ]
     },
     "execution_count": 25,
     "metadata": {},
     "output_type": "execute_result"
    }
   ],
   "source": [
    "train.Name"
   ]
  },
  {
   "cell_type": "code",
   "execution_count": 26,
   "id": "78c1c98d-3b9b-4b48-a092-705a214e3cae",
   "metadata": {
    "execution": {
     "iopub.execute_input": "2021-07-28T10:10:14.259364Z",
     "iopub.status.busy": "2021-07-28T10:10:14.259077Z",
     "iopub.status.idle": "2021-07-28T10:10:14.368273Z",
     "shell.execute_reply": "2021-07-28T10:10:14.366107Z",
     "shell.execute_reply.started": "2021-07-28T10:10:14.259328Z"
    },
    "tags": []
   },
   "outputs": [],
   "source": [
    "train['Name'] = train.Name.str.extract(' ([A-Za-z]+)\\.', expand = False)\n",
    "test['Name'] = test.Name.str.extract(' ([A-Za-z]+)\\.', expand = False)"
   ]
  },
  {
   "cell_type": "code",
   "execution_count": 27,
   "id": "4ef1f65f-0cab-4066-ad26-33df9f63a14b",
   "metadata": {
    "execution": {
     "iopub.execute_input": "2021-07-28T10:10:14.370168Z",
     "iopub.status.busy": "2021-07-28T10:10:14.369848Z",
     "iopub.status.idle": "2021-07-28T10:10:14.511763Z",
     "shell.execute_reply": "2021-07-28T10:10:14.508903Z",
     "shell.execute_reply.started": "2021-07-28T10:10:14.370114Z"
    },
    "tags": []
   },
   "outputs": [
    {
     "data": {
      "text/plain": [
       "['Mr',\n",
       " 'Mrs',\n",
       " 'Miss',\n",
       " 'Master',\n",
       " 'Don',\n",
       " 'Rev',\n",
       " 'Dr',\n",
       " 'Mme',\n",
       " 'Ms',\n",
       " 'Major',\n",
       " 'Lady',\n",
       " 'Sir',\n",
       " 'Mlle',\n",
       " 'Col',\n",
       " 'Capt',\n",
       " 'Countess',\n",
       " 'Jonkheer']"
      ]
     },
     "execution_count": 27,
     "metadata": {},
     "output_type": "execute_result"
    }
   ],
   "source": [
    "train['Name'].unique().tolist()"
   ]
  },
  {
   "cell_type": "markdown",
   "id": "24e60bfc-88c7-42b1-827b-c35d9f8b722b",
   "metadata": {},
   "source": [
    "<br> \n",
    "Too many titles, we have to bundle them."
   ]
  },
  {
   "cell_type": "code",
   "execution_count": 28,
   "id": "ac89b5c0-f3b1-43e4-a9da-310ffeec5bce",
   "metadata": {
    "execution": {
     "iopub.execute_input": "2021-07-28T10:10:14.522992Z",
     "iopub.status.busy": "2021-07-28T10:10:14.519449Z",
     "iopub.status.idle": "2021-07-28T10:10:14.658150Z",
     "shell.execute_reply": "2021-07-28T10:10:14.657528Z",
     "shell.execute_reply.started": "2021-07-28T10:10:14.522934Z"
    },
    "tags": []
   },
   "outputs": [],
   "source": [
    "train.rename(columns={'Name' : 'Title'}, inplace=True)\n",
    "train['Title'] = train['Title'].replace(['Rev', 'Dr', 'Col', 'Ms', 'Mlle', 'Major', 'Countess', \n",
    "                                       'Capt', 'Dona', 'Jonkheer', 'Lady', 'Sir', 'Mme', 'Don'], 'Other')\n",
    "                                      \n",
    "test.rename(columns={'Name' : 'Title'}, inplace=True)\n",
    "test['Title'] = test['Title'].replace(['Rev', 'Dr', 'Col', 'Ms', 'Mlle', 'Major', 'Countess', \n",
    "                                       'Capt', 'Dona', 'Jonkheer', 'Lady', 'Sir', 'Mme', 'Don'], 'Other')"
   ]
  },
  {
   "cell_type": "code",
   "execution_count": 29,
   "id": "709005f9-a7e4-46bb-a1d3-b20efdcbc005",
   "metadata": {
    "execution": {
     "iopub.execute_input": "2021-07-28T10:10:14.661186Z",
     "iopub.status.busy": "2021-07-28T10:10:14.660957Z",
     "iopub.status.idle": "2021-07-28T10:10:14.789590Z",
     "shell.execute_reply": "2021-07-28T10:10:14.786575Z",
     "shell.execute_reply.started": "2021-07-28T10:10:14.661164Z"
    },
    "tags": []
   },
   "outputs": [
    {
     "data": {
      "text/plain": [
       "Mr        517\n",
       "Miss      182\n",
       "Mrs       125\n",
       "Master     40\n",
       "Other      27\n",
       "Name: Title, dtype: int64"
      ]
     },
     "execution_count": 29,
     "metadata": {},
     "output_type": "execute_result"
    }
   ],
   "source": [
    "train['Title'].value_counts()"
   ]
  },
  {
   "cell_type": "markdown",
   "id": "c7253a92-7b39-4537-af2d-737a8602a0eb",
   "metadata": {},
   "source": [
    "<br>\n",
    "\n",
    "Now we need to encode these titles, using OneHotEncoder"
   ]
  },
  {
   "cell_type": "code",
   "execution_count": 30,
   "id": "2f75968a-48c3-4c9e-ad16-f13d3c13438c",
   "metadata": {
    "execution": {
     "iopub.execute_input": "2021-07-28T10:10:14.790950Z",
     "iopub.status.busy": "2021-07-28T10:10:14.790736Z",
     "iopub.status.idle": "2021-07-28T10:10:14.980075Z",
     "shell.execute_reply": "2021-07-28T10:10:14.979053Z",
     "shell.execute_reply.started": "2021-07-28T10:10:14.790920Z"
    },
    "tags": []
   },
   "outputs": [],
   "source": [
    "encoder = OneHotEncoder()\n",
    "temp = pd.DataFrame(encoder.fit_transform(train[['Title']]).toarray())\n",
    "train = train.join(temp)\n",
    "train.drop(columns='Title', inplace=True)\n",
    "\n",
    "temp = pd.DataFrame(encoder.transform(test[['Title']]).toarray())\n",
    "test = test.join(temp)\n",
    "test.drop(columns='Title', inplace=True)\n",
    "\n",
    "# The columns 0, 1, 2, 3, 4 are OneHotEncoded acc. to titles"
   ]
  },
  {
   "cell_type": "markdown",
   "id": "85aeebb4-b9a3-44f6-a75b-00c03847e9a2",
   "metadata": {},
   "source": [
    "Well, this was very hard. <br>\n",
    "I referred 2 notebooks on this dataset to reach till here. Phew.\n",
    "\n",
    "<br>\n",
    "\n",
    "Making a new column \"familySize\""
   ]
  },
  {
   "cell_type": "code",
   "execution_count": 31,
   "id": "98e80e9c-4c5b-4191-8f78-598442826696",
   "metadata": {
    "execution": {
     "iopub.execute_input": "2021-07-28T10:10:16.093379Z",
     "iopub.status.busy": "2021-07-28T10:10:16.092403Z",
     "iopub.status.idle": "2021-07-28T10:10:16.116940Z",
     "shell.execute_reply": "2021-07-28T10:10:16.114810Z",
     "shell.execute_reply.started": "2021-07-28T10:10:16.093263Z"
    },
    "tags": []
   },
   "outputs": [],
   "source": [
    "train['familySize'] = train['SibSp'] + train['Parch'] + 1\n",
    "test['familySize'] = test['SibSp'] + test['Parch'] + 1"
   ]
  },
  {
   "cell_type": "code",
   "execution_count": 32,
   "id": "32b053fd-1f3b-4be2-afb8-e4a17388f3a3",
   "metadata": {
    "execution": {
     "iopub.execute_input": "2021-07-28T10:10:16.603557Z",
     "iopub.status.busy": "2021-07-28T10:10:16.602350Z",
     "iopub.status.idle": "2021-07-28T10:10:16.636179Z",
     "shell.execute_reply": "2021-07-28T10:10:16.635373Z",
     "shell.execute_reply.started": "2021-07-28T10:10:16.603508Z"
    },
    "tags": []
   },
   "outputs": [
    {
     "data": {
      "text/html": [
       "<div>\n",
       "<style scoped>\n",
       "    .dataframe tbody tr th:only-of-type {\n",
       "        vertical-align: middle;\n",
       "    }\n",
       "\n",
       "    .dataframe tbody tr th {\n",
       "        vertical-align: top;\n",
       "    }\n",
       "\n",
       "    .dataframe thead th {\n",
       "        text-align: right;\n",
       "    }\n",
       "</style>\n",
       "<table border=\"1\" class=\"dataframe\">\n",
       "  <thead>\n",
       "    <tr style=\"text-align: right;\">\n",
       "      <th></th>\n",
       "      <th>PassengerId</th>\n",
       "      <th>Survived</th>\n",
       "      <th>Pclass</th>\n",
       "      <th>Sex</th>\n",
       "      <th>Age</th>\n",
       "      <th>SibSp</th>\n",
       "      <th>Parch</th>\n",
       "      <th>Ticket</th>\n",
       "      <th>Fare</th>\n",
       "      <th>Cabin</th>\n",
       "      <th>S</th>\n",
       "      <th>C</th>\n",
       "      <th>Q</th>\n",
       "      <th>0</th>\n",
       "      <th>1</th>\n",
       "      <th>2</th>\n",
       "      <th>3</th>\n",
       "      <th>4</th>\n",
       "      <th>familySize</th>\n",
       "    </tr>\n",
       "  </thead>\n",
       "  <tbody>\n",
       "    <tr>\n",
       "      <th>0</th>\n",
       "      <td>1</td>\n",
       "      <td>0</td>\n",
       "      <td>3</td>\n",
       "      <td>0</td>\n",
       "      <td>22.0</td>\n",
       "      <td>1</td>\n",
       "      <td>0</td>\n",
       "      <td>A/5 21171</td>\n",
       "      <td>7.2500</td>\n",
       "      <td>9</td>\n",
       "      <td>0.0</td>\n",
       "      <td>0.0</td>\n",
       "      <td>1.0</td>\n",
       "      <td>0.0</td>\n",
       "      <td>0.0</td>\n",
       "      <td>1.0</td>\n",
       "      <td>0.0</td>\n",
       "      <td>0.0</td>\n",
       "      <td>2</td>\n",
       "    </tr>\n",
       "    <tr>\n",
       "      <th>1</th>\n",
       "      <td>2</td>\n",
       "      <td>1</td>\n",
       "      <td>1</td>\n",
       "      <td>1</td>\n",
       "      <td>38.0</td>\n",
       "      <td>1</td>\n",
       "      <td>0</td>\n",
       "      <td>PC 17599</td>\n",
       "      <td>71.2833</td>\n",
       "      <td>3</td>\n",
       "      <td>1.0</td>\n",
       "      <td>0.0</td>\n",
       "      <td>0.0</td>\n",
       "      <td>0.0</td>\n",
       "      <td>0.0</td>\n",
       "      <td>0.0</td>\n",
       "      <td>1.0</td>\n",
       "      <td>0.0</td>\n",
       "      <td>2</td>\n",
       "    </tr>\n",
       "    <tr>\n",
       "      <th>2</th>\n",
       "      <td>3</td>\n",
       "      <td>1</td>\n",
       "      <td>3</td>\n",
       "      <td>1</td>\n",
       "      <td>26.0</td>\n",
       "      <td>0</td>\n",
       "      <td>0</td>\n",
       "      <td>STON/O2. 3101282</td>\n",
       "      <td>7.9250</td>\n",
       "      <td>9</td>\n",
       "      <td>0.0</td>\n",
       "      <td>0.0</td>\n",
       "      <td>1.0</td>\n",
       "      <td>0.0</td>\n",
       "      <td>1.0</td>\n",
       "      <td>0.0</td>\n",
       "      <td>0.0</td>\n",
       "      <td>0.0</td>\n",
       "      <td>1</td>\n",
       "    </tr>\n",
       "    <tr>\n",
       "      <th>3</th>\n",
       "      <td>4</td>\n",
       "      <td>1</td>\n",
       "      <td>1</td>\n",
       "      <td>1</td>\n",
       "      <td>35.0</td>\n",
       "      <td>1</td>\n",
       "      <td>0</td>\n",
       "      <td>113803</td>\n",
       "      <td>53.1000</td>\n",
       "      <td>3</td>\n",
       "      <td>0.0</td>\n",
       "      <td>0.0</td>\n",
       "      <td>1.0</td>\n",
       "      <td>0.0</td>\n",
       "      <td>0.0</td>\n",
       "      <td>0.0</td>\n",
       "      <td>1.0</td>\n",
       "      <td>0.0</td>\n",
       "      <td>2</td>\n",
       "    </tr>\n",
       "    <tr>\n",
       "      <th>4</th>\n",
       "      <td>5</td>\n",
       "      <td>0</td>\n",
       "      <td>3</td>\n",
       "      <td>0</td>\n",
       "      <td>35.0</td>\n",
       "      <td>0</td>\n",
       "      <td>0</td>\n",
       "      <td>373450</td>\n",
       "      <td>8.0500</td>\n",
       "      <td>9</td>\n",
       "      <td>0.0</td>\n",
       "      <td>0.0</td>\n",
       "      <td>1.0</td>\n",
       "      <td>0.0</td>\n",
       "      <td>0.0</td>\n",
       "      <td>1.0</td>\n",
       "      <td>0.0</td>\n",
       "      <td>0.0</td>\n",
       "      <td>1</td>\n",
       "    </tr>\n",
       "  </tbody>\n",
       "</table>\n",
       "</div>"
      ],
      "text/plain": [
       "   PassengerId  Survived  Pclass  Sex   Age  SibSp  Parch            Ticket  \\\n",
       "0            1         0       3    0  22.0      1      0         A/5 21171   \n",
       "1            2         1       1    1  38.0      1      0          PC 17599   \n",
       "2            3         1       3    1  26.0      0      0  STON/O2. 3101282   \n",
       "3            4         1       1    1  35.0      1      0            113803   \n",
       "4            5         0       3    0  35.0      0      0            373450   \n",
       "\n",
       "      Fare  Cabin    S    C    Q    0    1    2    3    4  familySize  \n",
       "0   7.2500      9  0.0  0.0  1.0  0.0  0.0  1.0  0.0  0.0           2  \n",
       "1  71.2833      3  1.0  0.0  0.0  0.0  0.0  0.0  1.0  0.0           2  \n",
       "2   7.9250      9  0.0  0.0  1.0  0.0  1.0  0.0  0.0  0.0           1  \n",
       "3  53.1000      3  0.0  0.0  1.0  0.0  0.0  0.0  1.0  0.0           2  \n",
       "4   8.0500      9  0.0  0.0  1.0  0.0  0.0  1.0  0.0  0.0           1  "
      ]
     },
     "execution_count": 32,
     "metadata": {},
     "output_type": "execute_result"
    }
   ],
   "source": [
    "train.head()"
   ]
  },
  {
   "cell_type": "markdown",
   "id": "e37fe577-c2a4-4f61-a1f0-b0f2eab1115b",
   "metadata": {},
   "source": [
    "<br>\n",
    "Finally dropping the SibSp, Parch, Ticket columns"
   ]
  },
  {
   "cell_type": "code",
   "execution_count": 33,
   "id": "aa1a384c-1ecc-4028-85b5-a196ace96ef2",
   "metadata": {
    "execution": {
     "iopub.execute_input": "2021-07-28T10:10:17.870833Z",
     "iopub.status.busy": "2021-07-28T10:10:17.870122Z",
     "iopub.status.idle": "2021-07-28T10:10:17.891237Z",
     "shell.execute_reply": "2021-07-28T10:10:17.889055Z",
     "shell.execute_reply.started": "2021-07-28T10:10:17.870749Z"
    },
    "tags": []
   },
   "outputs": [],
   "source": [
    "train.drop(['SibSp', 'Parch', 'Ticket'], axis = 1, inplace = True)\n",
    "test.drop(['SibSp', 'Parch', 'Ticket'], axis = 1, inplace = True)"
   ]
  },
  {
   "cell_type": "code",
   "execution_count": 34,
   "id": "0647d9c3-0f45-4104-b6e8-3a387744056b",
   "metadata": {
    "execution": {
     "iopub.execute_input": "2021-07-28T10:10:18.141156Z",
     "iopub.status.busy": "2021-07-28T10:10:18.140712Z",
     "iopub.status.idle": "2021-07-28T10:10:18.184605Z",
     "shell.execute_reply": "2021-07-28T10:10:18.183777Z",
     "shell.execute_reply.started": "2021-07-28T10:10:18.141106Z"
    },
    "tags": []
   },
   "outputs": [
    {
     "data": {
      "text/html": [
       "<div>\n",
       "<style scoped>\n",
       "    .dataframe tbody tr th:only-of-type {\n",
       "        vertical-align: middle;\n",
       "    }\n",
       "\n",
       "    .dataframe tbody tr th {\n",
       "        vertical-align: top;\n",
       "    }\n",
       "\n",
       "    .dataframe thead th {\n",
       "        text-align: right;\n",
       "    }\n",
       "</style>\n",
       "<table border=\"1\" class=\"dataframe\">\n",
       "  <thead>\n",
       "    <tr style=\"text-align: right;\">\n",
       "      <th></th>\n",
       "      <th>PassengerId</th>\n",
       "      <th>Survived</th>\n",
       "      <th>Pclass</th>\n",
       "      <th>Sex</th>\n",
       "      <th>Age</th>\n",
       "      <th>Fare</th>\n",
       "      <th>Cabin</th>\n",
       "      <th>S</th>\n",
       "      <th>C</th>\n",
       "      <th>Q</th>\n",
       "      <th>0</th>\n",
       "      <th>1</th>\n",
       "      <th>2</th>\n",
       "      <th>3</th>\n",
       "      <th>4</th>\n",
       "      <th>familySize</th>\n",
       "    </tr>\n",
       "  </thead>\n",
       "  <tbody>\n",
       "    <tr>\n",
       "      <th>0</th>\n",
       "      <td>1</td>\n",
       "      <td>0</td>\n",
       "      <td>3</td>\n",
       "      <td>0</td>\n",
       "      <td>22.0</td>\n",
       "      <td>7.2500</td>\n",
       "      <td>9</td>\n",
       "      <td>0.0</td>\n",
       "      <td>0.0</td>\n",
       "      <td>1.0</td>\n",
       "      <td>0.0</td>\n",
       "      <td>0.0</td>\n",
       "      <td>1.0</td>\n",
       "      <td>0.0</td>\n",
       "      <td>0.0</td>\n",
       "      <td>2</td>\n",
       "    </tr>\n",
       "    <tr>\n",
       "      <th>1</th>\n",
       "      <td>2</td>\n",
       "      <td>1</td>\n",
       "      <td>1</td>\n",
       "      <td>1</td>\n",
       "      <td>38.0</td>\n",
       "      <td>71.2833</td>\n",
       "      <td>3</td>\n",
       "      <td>1.0</td>\n",
       "      <td>0.0</td>\n",
       "      <td>0.0</td>\n",
       "      <td>0.0</td>\n",
       "      <td>0.0</td>\n",
       "      <td>0.0</td>\n",
       "      <td>1.0</td>\n",
       "      <td>0.0</td>\n",
       "      <td>2</td>\n",
       "    </tr>\n",
       "    <tr>\n",
       "      <th>2</th>\n",
       "      <td>3</td>\n",
       "      <td>1</td>\n",
       "      <td>3</td>\n",
       "      <td>1</td>\n",
       "      <td>26.0</td>\n",
       "      <td>7.9250</td>\n",
       "      <td>9</td>\n",
       "      <td>0.0</td>\n",
       "      <td>0.0</td>\n",
       "      <td>1.0</td>\n",
       "      <td>0.0</td>\n",
       "      <td>1.0</td>\n",
       "      <td>0.0</td>\n",
       "      <td>0.0</td>\n",
       "      <td>0.0</td>\n",
       "      <td>1</td>\n",
       "    </tr>\n",
       "    <tr>\n",
       "      <th>3</th>\n",
       "      <td>4</td>\n",
       "      <td>1</td>\n",
       "      <td>1</td>\n",
       "      <td>1</td>\n",
       "      <td>35.0</td>\n",
       "      <td>53.1000</td>\n",
       "      <td>3</td>\n",
       "      <td>0.0</td>\n",
       "      <td>0.0</td>\n",
       "      <td>1.0</td>\n",
       "      <td>0.0</td>\n",
       "      <td>0.0</td>\n",
       "      <td>0.0</td>\n",
       "      <td>1.0</td>\n",
       "      <td>0.0</td>\n",
       "      <td>2</td>\n",
       "    </tr>\n",
       "    <tr>\n",
       "      <th>4</th>\n",
       "      <td>5</td>\n",
       "      <td>0</td>\n",
       "      <td>3</td>\n",
       "      <td>0</td>\n",
       "      <td>35.0</td>\n",
       "      <td>8.0500</td>\n",
       "      <td>9</td>\n",
       "      <td>0.0</td>\n",
       "      <td>0.0</td>\n",
       "      <td>1.0</td>\n",
       "      <td>0.0</td>\n",
       "      <td>0.0</td>\n",
       "      <td>1.0</td>\n",
       "      <td>0.0</td>\n",
       "      <td>0.0</td>\n",
       "      <td>1</td>\n",
       "    </tr>\n",
       "  </tbody>\n",
       "</table>\n",
       "</div>"
      ],
      "text/plain": [
       "   PassengerId  Survived  Pclass  Sex   Age     Fare  Cabin    S    C    Q  \\\n",
       "0            1         0       3    0  22.0   7.2500      9  0.0  0.0  1.0   \n",
       "1            2         1       1    1  38.0  71.2833      3  1.0  0.0  0.0   \n",
       "2            3         1       3    1  26.0   7.9250      9  0.0  0.0  1.0   \n",
       "3            4         1       1    1  35.0  53.1000      3  0.0  0.0  1.0   \n",
       "4            5         0       3    0  35.0   8.0500      9  0.0  0.0  1.0   \n",
       "\n",
       "     0    1    2    3    4  familySize  \n",
       "0  0.0  0.0  1.0  0.0  0.0           2  \n",
       "1  0.0  0.0  0.0  1.0  0.0           2  \n",
       "2  0.0  1.0  0.0  0.0  0.0           1  \n",
       "3  0.0  0.0  0.0  1.0  0.0           2  \n",
       "4  0.0  0.0  1.0  0.0  0.0           1  "
      ]
     },
     "execution_count": 34,
     "metadata": {},
     "output_type": "execute_result"
    }
   ],
   "source": [
    "train.head()"
   ]
  },
  {
   "cell_type": "code",
   "execution_count": 35,
   "id": "13615f0d-8ba2-42b3-8143-a2a009663ae2",
   "metadata": {
    "execution": {
     "iopub.execute_input": "2021-07-28T10:10:18.822301Z",
     "iopub.status.busy": "2021-07-28T10:10:18.822075Z",
     "iopub.status.idle": "2021-07-28T10:10:18.851310Z",
     "shell.execute_reply": "2021-07-28T10:10:18.850628Z",
     "shell.execute_reply.started": "2021-07-28T10:10:18.822276Z"
    },
    "tags": []
   },
   "outputs": [
    {
     "data": {
      "text/html": [
       "<div>\n",
       "<style scoped>\n",
       "    .dataframe tbody tr th:only-of-type {\n",
       "        vertical-align: middle;\n",
       "    }\n",
       "\n",
       "    .dataframe tbody tr th {\n",
       "        vertical-align: top;\n",
       "    }\n",
       "\n",
       "    .dataframe thead th {\n",
       "        text-align: right;\n",
       "    }\n",
       "</style>\n",
       "<table border=\"1\" class=\"dataframe\">\n",
       "  <thead>\n",
       "    <tr style=\"text-align: right;\">\n",
       "      <th></th>\n",
       "      <th>PassengerId</th>\n",
       "      <th>Pclass</th>\n",
       "      <th>Sex</th>\n",
       "      <th>Age</th>\n",
       "      <th>Fare</th>\n",
       "      <th>Cabin</th>\n",
       "      <th>S</th>\n",
       "      <th>C</th>\n",
       "      <th>Q</th>\n",
       "      <th>0</th>\n",
       "      <th>1</th>\n",
       "      <th>2</th>\n",
       "      <th>3</th>\n",
       "      <th>4</th>\n",
       "      <th>familySize</th>\n",
       "    </tr>\n",
       "  </thead>\n",
       "  <tbody>\n",
       "    <tr>\n",
       "      <th>0</th>\n",
       "      <td>892</td>\n",
       "      <td>3</td>\n",
       "      <td>0</td>\n",
       "      <td>34.5</td>\n",
       "      <td>7.8292</td>\n",
       "      <td>9</td>\n",
       "      <td>0.0</td>\n",
       "      <td>1.0</td>\n",
       "      <td>0.0</td>\n",
       "      <td>0.0</td>\n",
       "      <td>0.0</td>\n",
       "      <td>1.0</td>\n",
       "      <td>0.0</td>\n",
       "      <td>0.0</td>\n",
       "      <td>1</td>\n",
       "    </tr>\n",
       "    <tr>\n",
       "      <th>1</th>\n",
       "      <td>893</td>\n",
       "      <td>3</td>\n",
       "      <td>1</td>\n",
       "      <td>47.0</td>\n",
       "      <td>7.0000</td>\n",
       "      <td>9</td>\n",
       "      <td>0.0</td>\n",
       "      <td>0.0</td>\n",
       "      <td>1.0</td>\n",
       "      <td>0.0</td>\n",
       "      <td>0.0</td>\n",
       "      <td>0.0</td>\n",
       "      <td>1.0</td>\n",
       "      <td>0.0</td>\n",
       "      <td>2</td>\n",
       "    </tr>\n",
       "    <tr>\n",
       "      <th>2</th>\n",
       "      <td>894</td>\n",
       "      <td>2</td>\n",
       "      <td>0</td>\n",
       "      <td>62.0</td>\n",
       "      <td>9.6875</td>\n",
       "      <td>9</td>\n",
       "      <td>0.0</td>\n",
       "      <td>1.0</td>\n",
       "      <td>0.0</td>\n",
       "      <td>0.0</td>\n",
       "      <td>0.0</td>\n",
       "      <td>1.0</td>\n",
       "      <td>0.0</td>\n",
       "      <td>0.0</td>\n",
       "      <td>1</td>\n",
       "    </tr>\n",
       "    <tr>\n",
       "      <th>3</th>\n",
       "      <td>895</td>\n",
       "      <td>3</td>\n",
       "      <td>0</td>\n",
       "      <td>27.0</td>\n",
       "      <td>8.6625</td>\n",
       "      <td>9</td>\n",
       "      <td>0.0</td>\n",
       "      <td>0.0</td>\n",
       "      <td>1.0</td>\n",
       "      <td>0.0</td>\n",
       "      <td>0.0</td>\n",
       "      <td>1.0</td>\n",
       "      <td>0.0</td>\n",
       "      <td>0.0</td>\n",
       "      <td>1</td>\n",
       "    </tr>\n",
       "    <tr>\n",
       "      <th>4</th>\n",
       "      <td>896</td>\n",
       "      <td>3</td>\n",
       "      <td>1</td>\n",
       "      <td>22.0</td>\n",
       "      <td>12.2875</td>\n",
       "      <td>9</td>\n",
       "      <td>0.0</td>\n",
       "      <td>0.0</td>\n",
       "      <td>1.0</td>\n",
       "      <td>0.0</td>\n",
       "      <td>0.0</td>\n",
       "      <td>0.0</td>\n",
       "      <td>1.0</td>\n",
       "      <td>0.0</td>\n",
       "      <td>3</td>\n",
       "    </tr>\n",
       "  </tbody>\n",
       "</table>\n",
       "</div>"
      ],
      "text/plain": [
       "   PassengerId  Pclass  Sex   Age     Fare  Cabin    S    C    Q    0    1  \\\n",
       "0          892       3    0  34.5   7.8292      9  0.0  1.0  0.0  0.0  0.0   \n",
       "1          893       3    1  47.0   7.0000      9  0.0  0.0  1.0  0.0  0.0   \n",
       "2          894       2    0  62.0   9.6875      9  0.0  1.0  0.0  0.0  0.0   \n",
       "3          895       3    0  27.0   8.6625      9  0.0  0.0  1.0  0.0  0.0   \n",
       "4          896       3    1  22.0  12.2875      9  0.0  0.0  1.0  0.0  0.0   \n",
       "\n",
       "     2    3    4  familySize  \n",
       "0  1.0  0.0  0.0           1  \n",
       "1  0.0  1.0  0.0           2  \n",
       "2  1.0  0.0  0.0           1  \n",
       "3  1.0  0.0  0.0           1  \n",
       "4  0.0  1.0  0.0           3  "
      ]
     },
     "execution_count": 35,
     "metadata": {},
     "output_type": "execute_result"
    }
   ],
   "source": [
    "test.head()"
   ]
  },
  {
   "cell_type": "markdown",
   "id": "1f21a0bb-3799-4057-b043-cd05e0aca33d",
   "metadata": {
    "execution": {
     "iopub.execute_input": "2021-07-28T08:25:28.613690Z",
     "iopub.status.busy": "2021-07-28T08:25:28.613288Z",
     "iopub.status.idle": "2021-07-28T08:25:28.619742Z",
     "shell.execute_reply": "2021-07-28T08:25:28.618633Z",
     "shell.execute_reply.started": "2021-07-28T08:25:28.613648Z"
    }
   },
   "source": [
    "<br>\n",
    "\n",
    "#### Principal Component Analysis (PCA)\n",
    "Performing PCA to visualize our final dataset"
   ]
  },
  {
   "cell_type": "code",
   "execution_count": 36,
   "id": "d4120456-f298-4d9e-95ad-2ab460eedc84",
   "metadata": {
    "execution": {
     "iopub.execute_input": "2021-07-28T10:10:19.740877Z",
     "iopub.status.busy": "2021-07-28T10:10:19.740620Z",
     "iopub.status.idle": "2021-07-28T10:10:19.750587Z",
     "shell.execute_reply": "2021-07-28T10:10:19.749900Z",
     "shell.execute_reply.started": "2021-07-28T10:10:19.740849Z"
    },
    "tags": []
   },
   "outputs": [],
   "source": [
    "columns = train.columns[2: ]\n",
    "\n",
    "X_train = StandardScaler().fit_transform(train.drop(columns = ['PassengerId', 'Survived']))\n",
    "pca_df = pd.DataFrame(X_train, columns = columns)"
   ]
  },
  {
   "cell_type": "code",
   "execution_count": 37,
   "id": "ecedaf31-bc18-47a0-b11b-f829df1ca17d",
   "metadata": {
    "execution": {
     "iopub.execute_input": "2021-07-28T10:10:20.114619Z",
     "iopub.status.busy": "2021-07-28T10:10:20.114127Z",
     "iopub.status.idle": "2021-07-28T10:10:20.140409Z",
     "shell.execute_reply": "2021-07-28T10:10:20.139649Z",
     "shell.execute_reply.started": "2021-07-28T10:10:20.114519Z"
    },
    "tags": []
   },
   "outputs": [],
   "source": [
    "pca = PCA(n_components = 2)\n",
    "pca_df = pca.fit_transform(pca_df)"
   ]
  },
  {
   "cell_type": "code",
   "execution_count": 38,
   "id": "a8f8fbf2-b718-42a6-b38c-3d7098984ecd",
   "metadata": {
    "execution": {
     "iopub.execute_input": "2021-07-28T10:10:20.427138Z",
     "iopub.status.busy": "2021-07-28T10:10:20.426719Z",
     "iopub.status.idle": "2021-07-28T10:10:20.738307Z",
     "shell.execute_reply": "2021-07-28T10:10:20.737310Z",
     "shell.execute_reply.started": "2021-07-28T10:10:20.427095Z"
    },
    "tags": []
   },
   "outputs": [
    {
     "data": {
      "image/png": "[encoded data removed]",
      "text/plain": [
       "<Figure size 576x432 with 1 Axes>"
      ]
     },
     "metadata": {
      "needs_background": "light"
     },
     "output_type": "display_data"
    }
   ],
   "source": [
    "plt.figure(figsize = (8, 6))\n",
    "\n",
    "plt.scatter(pca_df[:, 0], pca_df[:, 1], c = target)\n",
    "plt.xlabel('First Principal Component')\n",
    "plt.ylabel('Second Principal Component')\n",
    "\n",
    "plt.show()"
   ]
  },
  {
   "cell_type": "markdown",
   "id": "f9e607ea-c216-4ac8-976c-20fa41f6a227",
   "metadata": {},
   "source": [
    "Dataset is hot and ready to be served to some Machine Learning models."
   ]
  },
  {
   "cell_type": "markdown",
   "id": "daa81142-5abe-4d6f-baa9-1987accb2502",
   "metadata": {},
   "source": [
    "<div id='5'></div>\n",
    "\n",
    "<br>\n",
    "\n",
    "### **5. Model Training**"
   ]
  },
  {
   "cell_type": "code",
   "execution_count": 39,
   "id": "db13d912-068e-4f61-a3bd-0f105720f059",
   "metadata": {
    "execution": {
     "iopub.execute_input": "2021-07-28T10:10:22.178442Z",
     "iopub.status.busy": "2021-07-28T10:10:22.178116Z",
     "iopub.status.idle": "2021-07-28T10:10:22.185550Z",
     "shell.execute_reply": "2021-07-28T10:10:22.185038Z",
     "shell.execute_reply.started": "2021-07-28T10:10:22.178403Z"
    },
    "tags": []
   },
   "outputs": [
    {
     "name": "stdout",
     "output_type": "stream",
     "text": [
      "X_train shape: (801, 14)\n",
      "X_test shape: (90, 14)\n",
      "y_train shape: (801,)\n",
      "y_test shape: (90,)\n"
     ]
    }
   ],
   "source": [
    "X = train.drop(['PassengerId', 'Survived'], axis = 1)\n",
    "y = train['Survived']\n",
    "\n",
    "X_train, X_test, y_train, y_test = train_test_split(X, y, test_size = 0.1, random_state = 42)\n",
    "\n",
    "print(f'X_train shape: {X_train.shape}')\n",
    "print(f'X_test shape: {X_test.shape}')\n",
    "print(f'y_train shape: {y_train.shape}')\n",
    "print(f'y_test shape: {y_test.shape}')"
   ]
  },
  {
   "cell_type": "markdown",
   "id": "af66a868-604c-40ad-a6aa-619bcb04d59e",
   "metadata": {},
   "source": [
    "<br>\n",
    "\n",
    "#### a) Logistic Regression\n",
    "First we will rescale our data, and then apply Logistic Regression"
   ]
  },
  {
   "cell_type": "code",
   "execution_count": 40,
   "id": "68d8b499-fcda-46b7-bccf-abecb5fa093a",
   "metadata": {
    "execution": {
     "iopub.execute_input": "2021-07-28T10:10:23.009938Z",
     "iopub.status.busy": "2021-07-28T10:10:23.009596Z",
     "iopub.status.idle": "2021-07-28T10:10:23.032804Z",
     "shell.execute_reply": "2021-07-28T10:10:23.031825Z",
     "shell.execute_reply.started": "2021-07-28T10:10:23.009901Z"
    },
    "tags": []
   },
   "outputs": [],
   "source": [
    "scaler = MinMaxScaler()\n",
    "\n",
    "X_train_scaled = scaler.fit_transform(X_train)\n",
    "X_test_scaled = scaler.transform(X_test)"
   ]
  },
  {
   "cell_type": "code",
   "execution_count": 41,
   "id": "6d2889b5-0bee-4b92-a7e7-d42f2f2f1535",
   "metadata": {
    "execution": {
     "iopub.execute_input": "2021-07-28T10:10:23.451484Z",
     "iopub.status.busy": "2021-07-28T10:10:23.449721Z",
     "iopub.status.idle": "2021-07-28T10:10:23.486240Z",
     "shell.execute_reply": "2021-07-28T10:10:23.485409Z",
     "shell.execute_reply.started": "2021-07-28T10:10:23.451403Z"
    },
    "tags": []
   },
   "outputs": [
    {
     "name": "stdout",
     "output_type": "stream",
     "text": [
      "The accuracy of Logistic Regression is: 0.8444444444444444\n"
     ]
    }
   ],
   "source": [
    "logreg = LogisticRegression(max_iter = 10000)\n",
    "logreg.fit(X_train_scaled, y_train)\n",
    "\n",
    "y_pred = logreg.predict(X_test_scaled)\n",
    "accuracy_logreg = accuracy_score(y_pred, y_test)\n",
    "print(f'The accuracy of Logistic Regression is: {accuracy_logreg}')"
   ]
  },
  {
   "cell_type": "code",
   "execution_count": 42,
   "id": "297020d1-fab1-42c0-81b5-ae8b0ec97510",
   "metadata": {
    "execution": {
     "iopub.execute_input": "2021-07-28T10:10:23.903467Z",
     "iopub.status.busy": "2021-07-28T10:10:23.903099Z",
     "iopub.status.idle": "2021-07-28T10:10:24.288706Z",
     "shell.execute_reply": "2021-07-28T10:10:24.287932Z",
     "shell.execute_reply.started": "2021-07-28T10:10:23.903433Z"
    },
    "tags": []
   },
   "outputs": [
    {
     "data": {
      "image/png": "[encoded data removed]",
      "text/plain": [
       "<Figure size 432x288 with 2 Axes>"
      ]
     },
     "metadata": {
      "needs_background": "light"
     },
     "output_type": "display_data"
    }
   ],
   "source": [
    "conf_mat_logreg = confusion_matrix(y_pred, y_test)\n",
    "plot = plot_confusion_matrix(logreg, X_test_scaled, y_test, cmap = plt.cm.Blues, normalize = 'pred')\n",
    "plot.ax_.set_title(\"Nomalized Confusion Matrix for Logistic Regression\")\n",
    "plt.show()"
   ]
  },
  {
   "cell_type": "markdown",
   "id": "05367350-252b-4ae3-ac44-294e45519118",
   "metadata": {},
   "source": [
    "<br>\n",
    "\n",
    "#### b) KNN Classifier"
   ]
  },
  {
   "cell_type": "code",
   "execution_count": 43,
   "id": "7008bf5b-7dfc-4974-b315-a0c7b5e278a1",
   "metadata": {
    "execution": {
     "iopub.execute_input": "2021-07-28T10:10:25.725581Z",
     "iopub.status.busy": "2021-07-28T10:10:25.724513Z",
     "iopub.status.idle": "2021-07-28T10:10:25.751361Z",
     "shell.execute_reply": "2021-07-28T10:10:25.750520Z",
     "shell.execute_reply.started": "2021-07-28T10:10:25.725434Z"
    },
    "tags": []
   },
   "outputs": [
    {
     "name": "stdout",
     "output_type": "stream",
     "text": [
      "The accuracy of KNN is: 0.8222222222222222\n"
     ]
    }
   ],
   "source": [
    "knn = KNeighborsClassifier(n_neighbors = 7)\n",
    "knn.fit(X_train_scaled, y_train)\n",
    "\n",
    "y_pred = knn.predict(X_test_scaled)\n",
    "accuracy_knn = accuracy_score(y_pred, y_test)\n",
    "print(f'The accuracy of KNN is: {accuracy_knn}')"
   ]
  },
  {
   "cell_type": "code",
   "execution_count": 44,
   "id": "e8002bbb-cbbf-43dd-8cc2-81d6fd10e0eb",
   "metadata": {
    "execution": {
     "iopub.execute_input": "2021-07-28T10:10:25.940372Z",
     "iopub.status.busy": "2021-07-28T10:10:25.939850Z",
     "iopub.status.idle": "2021-07-28T10:10:26.317324Z",
     "shell.execute_reply": "2021-07-28T10:10:26.313122Z",
     "shell.execute_reply.started": "2021-07-28T10:10:25.940336Z"
    },
    "tags": []
   },
   "outputs": [
    {
     "data": {
      "image/png": "[encoded data removed]",
      "text/plain": [
       "<Figure size 432x288 with 2 Axes>"
      ]
     },
     "metadata": {
      "needs_background": "light"
     },
     "output_type": "display_data"
    }
   ],
   "source": [
    "conf_mat_knn = confusion_matrix(y_pred, y_test)\n",
    "plot = plot_confusion_matrix(knn, X_test_scaled, y_test, cmap = plt.cm.Blues, normalize = 'pred')\n",
    "plot.ax_.set_title(\"Nomalized Confusion Matrix for KNN\")\n",
    "plt.show()"
   ]
  },
  {
   "cell_type": "markdown",
   "id": "a00fe8f5-d14c-4c07-a808-9591f21ab245",
   "metadata": {},
   "source": [
    "<br>\n",
    "\n",
    "#### c) Support Vector Classifier"
   ]
  },
  {
   "cell_type": "code",
   "execution_count": 45,
   "id": "59975d88-3d47-490f-87c1-d1b10aa337e3",
   "metadata": {
    "execution": {
     "iopub.execute_input": "2021-07-28T10:10:28.259787Z",
     "iopub.status.busy": "2021-07-28T10:10:28.259579Z",
     "iopub.status.idle": "2021-07-28T10:10:28.286176Z",
     "shell.execute_reply": "2021-07-28T10:10:28.285375Z",
     "shell.execute_reply.started": "2021-07-28T10:10:28.259763Z"
    },
    "tags": []
   },
   "outputs": [
    {
     "name": "stdout",
     "output_type": "stream",
     "text": [
      "The accuracy of SVC (RBF Kernel) is: 0.8333333333333334\n"
     ]
    }
   ],
   "source": [
    "svc = SVC(gamma = 0.1)\n",
    "svc.fit(X_train_scaled, y_train)\n",
    "\n",
    "y_pred = svc.predict(X_test_scaled)\n",
    "accuracy_svc = accuracy_score(y_pred, y_test)\n",
    "print(f'The accuracy of SVC (RBF Kernel) is: {accuracy_svc}')"
   ]
  },
  {
   "cell_type": "code",
   "execution_count": 46,
   "id": "bdfa51d4-5b5c-417f-ab08-66ccf9e1f246",
   "metadata": {
    "execution": {
     "iopub.execute_input": "2021-07-28T10:10:28.505735Z",
     "iopub.status.busy": "2021-07-28T10:10:28.504207Z",
     "iopub.status.idle": "2021-07-28T10:10:28.918058Z",
     "shell.execute_reply": "2021-07-28T10:10:28.916671Z",
     "shell.execute_reply.started": "2021-07-28T10:10:28.505618Z"
    },
    "tags": []
   },
   "outputs": [
    {
     "data": {
      "image/png": "[encoded data removed]",
      "text/plain": [
       "<Figure size 432x288 with 2 Axes>"
      ]
     },
     "metadata": {
      "needs_background": "light"
     },
     "output_type": "display_data"
    }
   ],
   "source": [
    "conf_mat_svc = confusion_matrix(y_pred, y_test)\n",
    "plot = plot_confusion_matrix(svc, X_test_scaled, y_test, cmap = plt.cm.Blues, normalize = 'pred')\n",
    "plot.ax_.set_title(\"Nomalized Confusion Matrix for SVC (RBF Kernel)\")\n",
    "plt.show()"
   ]
  },
  {
   "cell_type": "markdown",
   "id": "7b6362a2-5a3f-4469-bfc6-c1cdf38dd0af",
   "metadata": {},
   "source": [
    "<br> \n",
    "\n",
    "#### d) Decision Tree"
   ]
  },
  {
   "cell_type": "code",
   "execution_count": 47,
   "id": "abe5df35-3f19-4155-bcb1-dc5b7aa23e65",
   "metadata": {
    "execution": {
     "iopub.execute_input": "2021-07-28T10:10:31.039872Z",
     "iopub.status.busy": "2021-07-28T10:10:31.037955Z",
     "iopub.status.idle": "2021-07-28T10:10:31.091525Z",
     "shell.execute_reply": "2021-07-28T10:10:31.089740Z",
     "shell.execute_reply.started": "2021-07-28T10:10:31.039736Z"
    },
    "tags": []
   },
   "outputs": [
    {
     "name": "stdout",
     "output_type": "stream",
     "text": [
      "The accuracy of Decision Tree is: 0.8444444444444444\n"
     ]
    }
   ],
   "source": [
    "dt = DecisionTreeClassifier(max_depth = 3)\n",
    "dt.fit(X_train_scaled, y_train)\n",
    "\n",
    "y_pred = dt.predict(X_test_scaled)\n",
    "accuracy_dt = accuracy_score(y_pred, y_test)\n",
    "print(f'The accuracy of Decision Tree is: {accuracy_dt}')"
   ]
  },
  {
   "cell_type": "code",
   "execution_count": 48,
   "id": "745bfc4c-945b-4188-a1c0-c622ba65f42f",
   "metadata": {
    "execution": {
     "iopub.execute_input": "2021-07-28T10:10:31.220953Z",
     "iopub.status.busy": "2021-07-28T10:10:31.220707Z",
     "iopub.status.idle": "2021-07-28T10:10:31.526179Z",
     "shell.execute_reply": "2021-07-28T10:10:31.523634Z",
     "shell.execute_reply.started": "2021-07-28T10:10:31.220927Z"
    },
    "tags": []
   },
   "outputs": [
    {
     "data": {
      "image/png": "[encoded data removed]",
      "text/plain": [
       "<Figure size 432x288 with 2 Axes>"
      ]
     },
     "metadata": {
      "needs_background": "light"
     },
     "output_type": "display_data"
    }
   ],
   "source": [
    "conf_mat_dt = confusion_matrix(y_pred, y_test)\n",
    "plot = plot_confusion_matrix(dt, X_test_scaled, y_test, cmap = plt.cm.Blues, normalize = 'pred')\n",
    "plot.ax_.set_title(\"Nomalized Confusion Matrix for Decision Tree\")\n",
    "plt.show()"
   ]
  },
  {
   "cell_type": "markdown",
   "id": "5bb6d7fb-47cd-4966-8c0c-753fa324c71c",
   "metadata": {},
   "source": [
    "<div id = '6'></div>\n",
    "\n",
    "<br>\n",
    "\n",
    "#### **6. Conclusion**"
   ]
  },
  {
   "cell_type": "code",
   "execution_count": 49,
   "id": "301bf7d6-6a76-464a-9c5f-625eff215c7d",
   "metadata": {
    "execution": {
     "iopub.execute_input": "2021-07-28T10:10:33.184935Z",
     "iopub.status.busy": "2021-07-28T10:10:33.184692Z",
     "iopub.status.idle": "2021-07-28T10:10:33.190575Z",
     "shell.execute_reply": "2021-07-28T10:10:33.189681Z",
     "shell.execute_reply.started": "2021-07-28T10:10:33.184907Z"
    },
    "tags": []
   },
   "outputs": [],
   "source": [
    "model_names = ['Logistic Regression', 'kNN', 'Support Vector Classifier', 'Decision Tree']"
   ]
  },
  {
   "cell_type": "code",
   "execution_count": 50,
   "id": "c5d7d267-dcee-4aac-8876-d823b6e7b152",
   "metadata": {
    "execution": {
     "iopub.execute_input": "2021-07-28T10:10:34.200240Z",
     "iopub.status.busy": "2021-07-28T10:10:34.199725Z",
     "iopub.status.idle": "2021-07-28T10:10:34.572463Z",
     "shell.execute_reply": "2021-07-28T10:10:34.568916Z",
     "shell.execute_reply.started": "2021-07-28T10:10:34.200178Z"
    },
    "tags": []
   },
   "outputs": [
    {
     "data": {
      "image/png": "[encoded data removed]",
      "text/plain": [
       "<Figure size 648x360 with 1 Axes>"
      ]
     },
     "metadata": {
      "needs_background": "light"
     },
     "output_type": "display_data"
    }
   ],
   "source": [
    "accuracy = [accuracy_logreg, accuracy_knn, accuracy_svc, accuracy_dt]\n",
    "\n",
    "plt.figure(figsize = (9, 5))\n",
    "plot = sns.barplot(x = model_names, y = accuracy, color = 'navy')\n",
    "plt.ylim(0.60, 1)\n",
    "plt.xlabel(\"Models\")\n",
    "plt.ylabel(\"Accuracy\")\n",
    "plt.title('Accuracy of Models')\n",
    "\n",
    "for bar in plot.patches:\n",
    "    plot.annotate(format(bar.get_height(), '.2f'), \n",
    "                   (bar.get_x() + bar.get_width() / 2, \n",
    "                    bar.get_height()), ha='center', va='center',\n",
    "                   size=15, xytext=(0, 8),\n",
    "                   textcoords='offset points')"
   ]
  },
  {
   "cell_type": "markdown",
   "id": "d5f204b8-3882-4624-9539-2284c46c32db",
   "metadata": {},
   "source": [
    "Logistic Regression and Decision Tree have accuracy of 0.84, which can be substantially improved by using any other _Hypertuned model._"
   ]
  },
  {
   "cell_type": "code",
   "execution_count": null,
   "id": "9c119ebb-314b-4586-b653-73e977d5adf7",
   "metadata": {},
   "outputs": [],
   "source": []
  }
 ],
 "metadata": {
  "kernelspec": {
   "display_name": "Python 3",
   "language": "python",
   "name": "python3"
  },
  "language_info": {
   "codemirror_mode": {
    "name": "ipython",
    "version": 3
   },
   "file_extension": ".py",
   "mimetype": "text/x-python",
   "name": "python",
   "nbconvert_exporter": "python",
   "pygments_lexer": "ipython3",
   "version": "3.8.8"
  }
 },
 "nbformat": 4,
 "nbformat_minor": 5
}
